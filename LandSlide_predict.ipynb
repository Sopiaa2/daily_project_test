{
  "nbformat": 4,
  "nbformat_minor": 0,
  "metadata": {
    "colab": {
      "name": "LandSlide_predict.ipynb",
      "provenance": [],
      "collapsed_sections": [],
      "mount_file_id": "1q4UvGLu_4t4PZ7GnZOE3QV9W8w3Ce-Hl",
      "authorship_tag": "ABX9TyOfpIZ+Q/1LrGmvwscoEyeI",
      "include_colab_link": true
    },
    "kernelspec": {
      "name": "python3",
      "display_name": "Python 3"
    },
    "language_info": {
      "name": "python"
    }
  },
  "cells": [
    {
      "cell_type": "markdown",
      "metadata": {
        "id": "view-in-github",
        "colab_type": "text"
      },
      "source": [
        "<a href=\"https://colab.research.google.com/github/Sopiaa2/daily_project_test/blob/main/LandSlide_predict.ipynb\" target=\"_parent\"><img src=\"https://colab.research.google.com/assets/colab-badge.svg\" alt=\"Open In Colab\"/></a>"
      ]
    },
    {
      "cell_type": "code",
      "source": [
        "#데이터 불러오기\n",
        "\n",
        "#  GLC(Global Landslide Catalog)는 규모, 영향 또는 위치에 관계없이 전 세계에서 강우로 인한 산사태를 식별하는 것을 목표로 개발되었습니다.\n",
        "#  GLC는 미디어, 재해 데이터베이스, 과학 보고서 또는 기타 출처에서 보고된 강우에 의해 촉발된 모든 유형의 대중 이동을 고려합니다.\n",
        "\n",
        "\"\"\"\n",
        "일반적으로 이 csv 파일에는 다음과 같은 세부 정보가 포함되어 있습니다.\n",
        "\n",
        "1. 산사태 날짜\n",
        "2. 산사태 유발 원인: 비, 호우, 사이클론 등\n",
        "3. 산사태 규모: 대, 중, 소\n",
        "4. 숙명\n",
        "5. 다쳐서\n",
        "6. 이벤트 국가\n",
        "7. 위도\n",
        "8. 경도\n",
        "\n",
        "\"\"\"\n",
        "import folium\n",
        "map = folium.Map(\n",
        "    location = [37.566345, 126.977893],\n",
        "    #tiles = 'St'\n",
        ")\n",
        "map"
      ],
      "metadata": {
        "colab": {
          "base_uri": "https://localhost:8080/",
          "height": 1000
        },
        "id": "kjAmV52RLGi3",
        "outputId": "e87f637c-bc2f-40af-fc9d-7e55f470a7c3"
      },
      "execution_count": 27,
      "outputs": [
        {
          "output_type": "execute_result",
          "data": {
            "text/plain": [
              "<folium.folium.Map at 0x7f882a718350>"
            ],
            "text/html": [
              "<div style=\"width:100%;\"><div style=\"position:relative;width:100%;height:0;padding-bottom:60%;\"><span style=\"color:#565656\">Make this Notebook Trusted to load map: File -> Trust Notebook</span><iframe srcdoc=\"&lt;!DOCTYPE html&gt;\n",
              "&lt;head&gt;    \n",
              "    &lt;meta http-equiv=&quot;content-type&quot; content=&quot;text/html; charset=UTF-8&quot; /&gt;\n",
              "    &lt;script&gt;L_PREFER_CANVAS=false; L_NO_TOUCH=false; L_DISABLE_3D=false;&lt;/script&gt;\n",
              "    &lt;script src=&quot;https://cdn.jsdelivr.net/npm/leaflet@1.4.0/dist/leaflet.js&quot;&gt;&lt;/script&gt;\n",
              "    &lt;script src=&quot;https://code.jquery.com/jquery-1.12.4.min.js&quot;&gt;&lt;/script&gt;\n",
              "    &lt;script src=&quot;https://maxcdn.bootstrapcdn.com/bootstrap/3.2.0/js/bootstrap.min.js&quot;&gt;&lt;/script&gt;\n",
              "    &lt;script src=&quot;https://cdnjs.cloudflare.com/ajax/libs/Leaflet.awesome-markers/2.0.2/leaflet.awesome-markers.js&quot;&gt;&lt;/script&gt;\n",
              "    &lt;link rel=&quot;stylesheet&quot; href=&quot;https://cdn.jsdelivr.net/npm/leaflet@1.4.0/dist/leaflet.css&quot;/&gt;\n",
              "    &lt;link rel=&quot;stylesheet&quot; href=&quot;https://maxcdn.bootstrapcdn.com/bootstrap/3.2.0/css/bootstrap.min.css&quot;/&gt;\n",
              "    &lt;link rel=&quot;stylesheet&quot; href=&quot;https://maxcdn.bootstrapcdn.com/bootstrap/3.2.0/css/bootstrap-theme.min.css&quot;/&gt;\n",
              "    &lt;link rel=&quot;stylesheet&quot; href=&quot;https://maxcdn.bootstrapcdn.com/font-awesome/4.6.3/css/font-awesome.min.css&quot;/&gt;\n",
              "    &lt;link rel=&quot;stylesheet&quot; href=&quot;https://cdnjs.cloudflare.com/ajax/libs/Leaflet.awesome-markers/2.0.2/leaflet.awesome-markers.css&quot;/&gt;\n",
              "    &lt;link rel=&quot;stylesheet&quot; href=&quot;https://rawcdn.githack.com/python-visualization/folium/master/folium/templates/leaflet.awesome.rotate.css&quot;/&gt;\n",
              "    &lt;style&gt;html, body {width: 100%;height: 100%;margin: 0;padding: 0;}&lt;/style&gt;\n",
              "    &lt;style&gt;#map {position:absolute;top:0;bottom:0;right:0;left:0;}&lt;/style&gt;\n",
              "    \n",
              "    &lt;meta name=&quot;viewport&quot; content=&quot;width=device-width,\n",
              "        initial-scale=1.0, maximum-scale=1.0, user-scalable=no&quot; /&gt;\n",
              "    &lt;style&gt;#map_e61c8ed29da45d2c46ef8d4f6f2dbd6a {\n",
              "        position: relative;\n",
              "        width: 100.0%;\n",
              "        height: 100.0%;\n",
              "        left: 0.0%;\n",
              "        top: 0.0%;\n",
              "        }\n",
              "    &lt;/style&gt;\n",
              "&lt;/head&gt;\n",
              "&lt;body&gt;    \n",
              "    \n",
              "    &lt;div class=&quot;folium-map&quot; id=&quot;map_e61c8ed29da45d2c46ef8d4f6f2dbd6a&quot; &gt;&lt;/div&gt;\n",
              "&lt;/body&gt;\n",
              "&lt;script&gt;    \n",
              "    \n",
              "    \n",
              "        var bounds = null;\n",
              "    \n",
              "\n",
              "    var map_e61c8ed29da45d2c46ef8d4f6f2dbd6a = L.map(\n",
              "        &#x27;map_e61c8ed29da45d2c46ef8d4f6f2dbd6a&#x27;, {\n",
              "        center: [37.566345, 126.977893],\n",
              "        zoom: 10,\n",
              "        maxBounds: bounds,\n",
              "        layers: [],\n",
              "        worldCopyJump: false,\n",
              "        crs: L.CRS.EPSG3857,\n",
              "        zoomControl: true,\n",
              "        });\n",
              "\n",
              "\n",
              "    \n",
              "    var tile_layer_1ea6ab88c7e9ca983a3edb4198e425ec = L.tileLayer(\n",
              "        &#x27;https://{s}.tile.openstreetmap.org/{z}/{x}/{y}.png&#x27;,\n",
              "        {\n",
              "        &quot;attribution&quot;: null,\n",
              "        &quot;detectRetina&quot;: false,\n",
              "        &quot;maxNativeZoom&quot;: 18,\n",
              "        &quot;maxZoom&quot;: 18,\n",
              "        &quot;minZoom&quot;: 0,\n",
              "        &quot;noWrap&quot;: false,\n",
              "        &quot;opacity&quot;: 1,\n",
              "        &quot;subdomains&quot;: &quot;abc&quot;,\n",
              "        &quot;tms&quot;: false\n",
              "}).addTo(map_e61c8ed29da45d2c46ef8d4f6f2dbd6a);\n",
              "&lt;/script&gt;\" style=\"position:absolute;width:100%;height:100%;left:0;top:0;border:none !important;\" allowfullscreen webkitallowfullscreen mozallowfullscreen></iframe></div></div>"
            ]
          },
          "metadata": {},
          "execution_count": 27
        }
      ]
    },
    {
      "cell_type": "code",
      "execution_count": 28,
      "metadata": {
        "id": "DiYIC-muJI8v"
      },
      "outputs": [],
      "source": [
        "import pandas as pd\n",
        "import numpy as np\n",
        "import matplotlib.pyplot as plt\n",
        "import seaborn as sns\n",
        "import random\n",
        "import warnings\n",
        "warnings.filterwarnings(\"ignore\")"
      ]
    },
    {
      "cell_type": "markdown",
      "source": [
        "##EDA"
      ],
      "metadata": {
        "id": "ijiM2Kzn_XWV"
      }
    },
    {
      "cell_type": "code",
      "source": [
        "#데이터 불러오기"
      ],
      "metadata": {
        "id": "v1RJkU9y_bTL"
      },
      "execution_count": 29,
      "outputs": []
    },
    {
      "cell_type": "code",
      "source": [
        "data = pd.read_csv('/content/drive/MyDrive/machine_learning_data/new1SupervisedDataSet.csv')\n",
        "data"
      ],
      "metadata": {
        "colab": {
          "base_uri": "https://localhost:8080/",
          "height": 424
        },
        "id": "L0brqach-ntQ",
        "outputId": "cc4db824-1bcb-4368-bc63-8711a6f9d112"
      },
      "execution_count": 30,
      "outputs": [
        {
          "output_type": "execute_result",
          "data": {
            "text/plain": [
              "        Landslide  Aspect  Curvature  Earthquake  Elevation  Flow  Lithology  \\\n",
              "0               0    2.00       3.33        1.67       4.00  2.67       2.33   \n",
              "1               0    4.00       2.67        2.33       2.00  2.33       1.67   \n",
              "2               0    3.00       2.67        3.00       2.00  2.00       2.00   \n",
              "3               0    3.00       2.67        2.67       2.67  3.00       1.33   \n",
              "4               0    2.67       3.67        2.33       3.67  1.67       3.67   \n",
              "...           ...     ...        ...         ...        ...   ...        ...   \n",
              "190885          0    2.33       2.67        2.00       4.67  2.33       3.00   \n",
              "190886          0    3.00       3.00        2.33       3.00  3.00       1.67   \n",
              "190887          0    3.00       3.00        2.00       1.33  2.33       1.67   \n",
              "190888          0    3.33       4.00        2.67       3.00  2.00       2.33   \n",
              "190889          0    3.67       4.00        2.00       2.33  2.33       2.00   \n",
              "\n",
              "        NDVI  NDWI  Plan  Precipitation  Profile  Slope  temperature  \\\n",
              "0       3.00  2.67  3.00           2.67     2.67   2.33        18.21   \n",
              "1       2.33  2.67  2.67           4.33     3.33   2.00        19.17   \n",
              "2       2.67  3.00  3.00           5.00     3.33   2.00        22.79   \n",
              "3       3.33  2.67  2.67           5.00     3.00   2.67        23.30   \n",
              "4       2.67  3.00  3.00           3.67     2.00   3.33        22.45   \n",
              "...      ...   ...   ...            ...      ...    ...          ...   \n",
              "190885  1.33  4.00  2.33           3.33     3.00   3.33        15.97   \n",
              "190886  2.00  4.00  2.67           4.00     2.67   3.00        21.29   \n",
              "190887  1.67  4.33  3.00           3.33     3.33   2.00        20.50   \n",
              "190888  3.33  2.33  3.67           4.67     2.33   4.33        25.39   \n",
              "190889  3.33  2.67  4.00           3.00     3.00   3.33        23.57   \n",
              "\n",
              "        humidity      rain  moisture  pressure  \n",
              "0          84.33 26,668.92     31.25  1,017.90  \n",
              "1          73.91 27,103.17     75.94  1,013.19  \n",
              "2          78.17 26,689.17     51.23  1,016.09  \n",
              "3          81.47 18,678.75     72.09  1,017.48  \n",
              "4          80.01 26,713.92     53.48  1,013.23  \n",
              "...          ...       ...       ...       ...  \n",
              "190885     78.34 26,724.42     48.61  1,017.95  \n",
              "190886     82.41    245.25     24.16    957.41  \n",
              "190887     83.09 23,715.00     37.06  1,019.67  \n",
              "190888     74.95    108.00     10.97  1,005.39  \n",
              "190889     86.79 26,766.42     30.11  1,012.35  \n",
              "\n",
              "[190890 rows x 18 columns]"
            ],
            "text/html": [
              "\n",
              "  <div id=\"df-e44498c5-15b7-4188-bda7-4963885c56f1\">\n",
              "    <div class=\"colab-df-container\">\n",
              "      <div>\n",
              "<style scoped>\n",
              "    .dataframe tbody tr th:only-of-type {\n",
              "        vertical-align: middle;\n",
              "    }\n",
              "\n",
              "    .dataframe tbody tr th {\n",
              "        vertical-align: top;\n",
              "    }\n",
              "\n",
              "    .dataframe thead th {\n",
              "        text-align: right;\n",
              "    }\n",
              "</style>\n",
              "<table border=\"1\" class=\"dataframe\">\n",
              "  <thead>\n",
              "    <tr style=\"text-align: right;\">\n",
              "      <th></th>\n",
              "      <th>Landslide</th>\n",
              "      <th>Aspect</th>\n",
              "      <th>Curvature</th>\n",
              "      <th>Earthquake</th>\n",
              "      <th>Elevation</th>\n",
              "      <th>Flow</th>\n",
              "      <th>Lithology</th>\n",
              "      <th>NDVI</th>\n",
              "      <th>NDWI</th>\n",
              "      <th>Plan</th>\n",
              "      <th>Precipitation</th>\n",
              "      <th>Profile</th>\n",
              "      <th>Slope</th>\n",
              "      <th>temperature</th>\n",
              "      <th>humidity</th>\n",
              "      <th>rain</th>\n",
              "      <th>moisture</th>\n",
              "      <th>pressure</th>\n",
              "    </tr>\n",
              "  </thead>\n",
              "  <tbody>\n",
              "    <tr>\n",
              "      <th>0</th>\n",
              "      <td>0</td>\n",
              "      <td>2.00</td>\n",
              "      <td>3.33</td>\n",
              "      <td>1.67</td>\n",
              "      <td>4.00</td>\n",
              "      <td>2.67</td>\n",
              "      <td>2.33</td>\n",
              "      <td>3.00</td>\n",
              "      <td>2.67</td>\n",
              "      <td>3.00</td>\n",
              "      <td>2.67</td>\n",
              "      <td>2.67</td>\n",
              "      <td>2.33</td>\n",
              "      <td>18.21</td>\n",
              "      <td>84.33</td>\n",
              "      <td>26,668.92</td>\n",
              "      <td>31.25</td>\n",
              "      <td>1,017.90</td>\n",
              "    </tr>\n",
              "    <tr>\n",
              "      <th>1</th>\n",
              "      <td>0</td>\n",
              "      <td>4.00</td>\n",
              "      <td>2.67</td>\n",
              "      <td>2.33</td>\n",
              "      <td>2.00</td>\n",
              "      <td>2.33</td>\n",
              "      <td>1.67</td>\n",
              "      <td>2.33</td>\n",
              "      <td>2.67</td>\n",
              "      <td>2.67</td>\n",
              "      <td>4.33</td>\n",
              "      <td>3.33</td>\n",
              "      <td>2.00</td>\n",
              "      <td>19.17</td>\n",
              "      <td>73.91</td>\n",
              "      <td>27,103.17</td>\n",
              "      <td>75.94</td>\n",
              "      <td>1,013.19</td>\n",
              "    </tr>\n",
              "    <tr>\n",
              "      <th>2</th>\n",
              "      <td>0</td>\n",
              "      <td>3.00</td>\n",
              "      <td>2.67</td>\n",
              "      <td>3.00</td>\n",
              "      <td>2.00</td>\n",
              "      <td>2.00</td>\n",
              "      <td>2.00</td>\n",
              "      <td>2.67</td>\n",
              "      <td>3.00</td>\n",
              "      <td>3.00</td>\n",
              "      <td>5.00</td>\n",
              "      <td>3.33</td>\n",
              "      <td>2.00</td>\n",
              "      <td>22.79</td>\n",
              "      <td>78.17</td>\n",
              "      <td>26,689.17</td>\n",
              "      <td>51.23</td>\n",
              "      <td>1,016.09</td>\n",
              "    </tr>\n",
              "    <tr>\n",
              "      <th>3</th>\n",
              "      <td>0</td>\n",
              "      <td>3.00</td>\n",
              "      <td>2.67</td>\n",
              "      <td>2.67</td>\n",
              "      <td>2.67</td>\n",
              "      <td>3.00</td>\n",
              "      <td>1.33</td>\n",
              "      <td>3.33</td>\n",
              "      <td>2.67</td>\n",
              "      <td>2.67</td>\n",
              "      <td>5.00</td>\n",
              "      <td>3.00</td>\n",
              "      <td>2.67</td>\n",
              "      <td>23.30</td>\n",
              "      <td>81.47</td>\n",
              "      <td>18,678.75</td>\n",
              "      <td>72.09</td>\n",
              "      <td>1,017.48</td>\n",
              "    </tr>\n",
              "    <tr>\n",
              "      <th>4</th>\n",
              "      <td>0</td>\n",
              "      <td>2.67</td>\n",
              "      <td>3.67</td>\n",
              "      <td>2.33</td>\n",
              "      <td>3.67</td>\n",
              "      <td>1.67</td>\n",
              "      <td>3.67</td>\n",
              "      <td>2.67</td>\n",
              "      <td>3.00</td>\n",
              "      <td>3.00</td>\n",
              "      <td>3.67</td>\n",
              "      <td>2.00</td>\n",
              "      <td>3.33</td>\n",
              "      <td>22.45</td>\n",
              "      <td>80.01</td>\n",
              "      <td>26,713.92</td>\n",
              "      <td>53.48</td>\n",
              "      <td>1,013.23</td>\n",
              "    </tr>\n",
              "    <tr>\n",
              "      <th>...</th>\n",
              "      <td>...</td>\n",
              "      <td>...</td>\n",
              "      <td>...</td>\n",
              "      <td>...</td>\n",
              "      <td>...</td>\n",
              "      <td>...</td>\n",
              "      <td>...</td>\n",
              "      <td>...</td>\n",
              "      <td>...</td>\n",
              "      <td>...</td>\n",
              "      <td>...</td>\n",
              "      <td>...</td>\n",
              "      <td>...</td>\n",
              "      <td>...</td>\n",
              "      <td>...</td>\n",
              "      <td>...</td>\n",
              "      <td>...</td>\n",
              "      <td>...</td>\n",
              "    </tr>\n",
              "    <tr>\n",
              "      <th>190885</th>\n",
              "      <td>0</td>\n",
              "      <td>2.33</td>\n",
              "      <td>2.67</td>\n",
              "      <td>2.00</td>\n",
              "      <td>4.67</td>\n",
              "      <td>2.33</td>\n",
              "      <td>3.00</td>\n",
              "      <td>1.33</td>\n",
              "      <td>4.00</td>\n",
              "      <td>2.33</td>\n",
              "      <td>3.33</td>\n",
              "      <td>3.00</td>\n",
              "      <td>3.33</td>\n",
              "      <td>15.97</td>\n",
              "      <td>78.34</td>\n",
              "      <td>26,724.42</td>\n",
              "      <td>48.61</td>\n",
              "      <td>1,017.95</td>\n",
              "    </tr>\n",
              "    <tr>\n",
              "      <th>190886</th>\n",
              "      <td>0</td>\n",
              "      <td>3.00</td>\n",
              "      <td>3.00</td>\n",
              "      <td>2.33</td>\n",
              "      <td>3.00</td>\n",
              "      <td>3.00</td>\n",
              "      <td>1.67</td>\n",
              "      <td>2.00</td>\n",
              "      <td>4.00</td>\n",
              "      <td>2.67</td>\n",
              "      <td>4.00</td>\n",
              "      <td>2.67</td>\n",
              "      <td>3.00</td>\n",
              "      <td>21.29</td>\n",
              "      <td>82.41</td>\n",
              "      <td>245.25</td>\n",
              "      <td>24.16</td>\n",
              "      <td>957.41</td>\n",
              "    </tr>\n",
              "    <tr>\n",
              "      <th>190887</th>\n",
              "      <td>0</td>\n",
              "      <td>3.00</td>\n",
              "      <td>3.00</td>\n",
              "      <td>2.00</td>\n",
              "      <td>1.33</td>\n",
              "      <td>2.33</td>\n",
              "      <td>1.67</td>\n",
              "      <td>1.67</td>\n",
              "      <td>4.33</td>\n",
              "      <td>3.00</td>\n",
              "      <td>3.33</td>\n",
              "      <td>3.33</td>\n",
              "      <td>2.00</td>\n",
              "      <td>20.50</td>\n",
              "      <td>83.09</td>\n",
              "      <td>23,715.00</td>\n",
              "      <td>37.06</td>\n",
              "      <td>1,019.67</td>\n",
              "    </tr>\n",
              "    <tr>\n",
              "      <th>190888</th>\n",
              "      <td>0</td>\n",
              "      <td>3.33</td>\n",
              "      <td>4.00</td>\n",
              "      <td>2.67</td>\n",
              "      <td>3.00</td>\n",
              "      <td>2.00</td>\n",
              "      <td>2.33</td>\n",
              "      <td>3.33</td>\n",
              "      <td>2.33</td>\n",
              "      <td>3.67</td>\n",
              "      <td>4.67</td>\n",
              "      <td>2.33</td>\n",
              "      <td>4.33</td>\n",
              "      <td>25.39</td>\n",
              "      <td>74.95</td>\n",
              "      <td>108.00</td>\n",
              "      <td>10.97</td>\n",
              "      <td>1,005.39</td>\n",
              "    </tr>\n",
              "    <tr>\n",
              "      <th>190889</th>\n",
              "      <td>0</td>\n",
              "      <td>3.67</td>\n",
              "      <td>4.00</td>\n",
              "      <td>2.00</td>\n",
              "      <td>2.33</td>\n",
              "      <td>2.33</td>\n",
              "      <td>2.00</td>\n",
              "      <td>3.33</td>\n",
              "      <td>2.67</td>\n",
              "      <td>4.00</td>\n",
              "      <td>3.00</td>\n",
              "      <td>3.00</td>\n",
              "      <td>3.33</td>\n",
              "      <td>23.57</td>\n",
              "      <td>86.79</td>\n",
              "      <td>26,766.42</td>\n",
              "      <td>30.11</td>\n",
              "      <td>1,012.35</td>\n",
              "    </tr>\n",
              "  </tbody>\n",
              "</table>\n",
              "<p>190890 rows × 18 columns</p>\n",
              "</div>\n",
              "      <button class=\"colab-df-convert\" onclick=\"convertToInteractive('df-e44498c5-15b7-4188-bda7-4963885c56f1')\"\n",
              "              title=\"Convert this dataframe to an interactive table.\"\n",
              "              style=\"display:none;\">\n",
              "        \n",
              "  <svg xmlns=\"http://www.w3.org/2000/svg\" height=\"24px\"viewBox=\"0 0 24 24\"\n",
              "       width=\"24px\">\n",
              "    <path d=\"M0 0h24v24H0V0z\" fill=\"none\"/>\n",
              "    <path d=\"M18.56 5.44l.94 2.06.94-2.06 2.06-.94-2.06-.94-.94-2.06-.94 2.06-2.06.94zm-11 1L8.5 8.5l.94-2.06 2.06-.94-2.06-.94L8.5 2.5l-.94 2.06-2.06.94zm10 10l.94 2.06.94-2.06 2.06-.94-2.06-.94-.94-2.06-.94 2.06-2.06.94z\"/><path d=\"M17.41 7.96l-1.37-1.37c-.4-.4-.92-.59-1.43-.59-.52 0-1.04.2-1.43.59L10.3 9.45l-7.72 7.72c-.78.78-.78 2.05 0 2.83L4 21.41c.39.39.9.59 1.41.59.51 0 1.02-.2 1.41-.59l7.78-7.78 2.81-2.81c.8-.78.8-2.07 0-2.86zM5.41 20L4 18.59l7.72-7.72 1.47 1.35L5.41 20z\"/>\n",
              "  </svg>\n",
              "      </button>\n",
              "      \n",
              "  <style>\n",
              "    .colab-df-container {\n",
              "      display:flex;\n",
              "      flex-wrap:wrap;\n",
              "      gap: 12px;\n",
              "    }\n",
              "\n",
              "    .colab-df-convert {\n",
              "      background-color: #E8F0FE;\n",
              "      border: none;\n",
              "      border-radius: 50%;\n",
              "      cursor: pointer;\n",
              "      display: none;\n",
              "      fill: #1967D2;\n",
              "      height: 32px;\n",
              "      padding: 0 0 0 0;\n",
              "      width: 32px;\n",
              "    }\n",
              "\n",
              "    .colab-df-convert:hover {\n",
              "      background-color: #E2EBFA;\n",
              "      box-shadow: 0px 1px 2px rgba(60, 64, 67, 0.3), 0px 1px 3px 1px rgba(60, 64, 67, 0.15);\n",
              "      fill: #174EA6;\n",
              "    }\n",
              "\n",
              "    [theme=dark] .colab-df-convert {\n",
              "      background-color: #3B4455;\n",
              "      fill: #D2E3FC;\n",
              "    }\n",
              "\n",
              "    [theme=dark] .colab-df-convert:hover {\n",
              "      background-color: #434B5C;\n",
              "      box-shadow: 0px 1px 3px 1px rgba(0, 0, 0, 0.15);\n",
              "      filter: drop-shadow(0px 1px 2px rgba(0, 0, 0, 0.3));\n",
              "      fill: #FFFFFF;\n",
              "    }\n",
              "  </style>\n",
              "\n",
              "      <script>\n",
              "        const buttonEl =\n",
              "          document.querySelector('#df-e44498c5-15b7-4188-bda7-4963885c56f1 button.colab-df-convert');\n",
              "        buttonEl.style.display =\n",
              "          google.colab.kernel.accessAllowed ? 'block' : 'none';\n",
              "\n",
              "        async function convertToInteractive(key) {\n",
              "          const element = document.querySelector('#df-e44498c5-15b7-4188-bda7-4963885c56f1');\n",
              "          const dataTable =\n",
              "            await google.colab.kernel.invokeFunction('convertToInteractive',\n",
              "                                                     [key], {});\n",
              "          if (!dataTable) return;\n",
              "\n",
              "          const docLinkHtml = 'Like what you see? Visit the ' +\n",
              "            '<a target=\"_blank\" href=https://colab.research.google.com/notebooks/data_table.ipynb>data table notebook</a>'\n",
              "            + ' to learn more about interactive tables.';\n",
              "          element.innerHTML = '';\n",
              "          dataTable['output_type'] = 'display_data';\n",
              "          await google.colab.output.renderOutput(dataTable, element);\n",
              "          const docLink = document.createElement('div');\n",
              "          docLink.innerHTML = docLinkHtml;\n",
              "          element.appendChild(docLink);\n",
              "        }\n",
              "      </script>\n",
              "    </div>\n",
              "  </div>\n",
              "  "
            ]
          },
          "metadata": {},
          "execution_count": 30
        }
      ]
    },
    {
      "cell_type": "code",
      "source": [
        "data.info()"
      ],
      "metadata": {
        "colab": {
          "base_uri": "https://localhost:8080/"
        },
        "id": "g56vsfR3fIZj",
        "outputId": "9ff57113-4339-43b8-83e5-4ab429a2d520"
      },
      "execution_count": 94,
      "outputs": [
        {
          "output_type": "stream",
          "name": "stdout",
          "text": [
            "<class 'pandas.core.frame.DataFrame'>\n",
            "RangeIndex: 190890 entries, 0 to 190889\n",
            "Data columns (total 18 columns):\n",
            " #   Column         Non-Null Count   Dtype  \n",
            "---  ------         --------------   -----  \n",
            " 0   Landslide      190890 non-null  int64  \n",
            " 1   Aspect         190890 non-null  float64\n",
            " 2   Curvature      190890 non-null  float64\n",
            " 3   Earthquake     190890 non-null  float64\n",
            " 4   Elevation      190890 non-null  float64\n",
            " 5   Flow           190890 non-null  float64\n",
            " 6   Lithology      190890 non-null  float64\n",
            " 7   NDVI           190890 non-null  float64\n",
            " 8   NDWI           190890 non-null  float64\n",
            " 9   Plan           190890 non-null  float64\n",
            " 10  Precipitation  190890 non-null  float64\n",
            " 11  Profile        190890 non-null  float64\n",
            " 12  Slope          190890 non-null  float64\n",
            " 13  temperature    190890 non-null  float64\n",
            " 14  humidity       190890 non-null  float64\n",
            " 15  rain           190890 non-null  float64\n",
            " 16  moisture       190890 non-null  float64\n",
            " 17  pressure       190890 non-null  float64\n",
            "dtypes: float64(17), int64(1)\n",
            "memory usage: 26.2 MB\n"
          ]
        }
      ]
    },
    {
      "cell_type": "code",
      "source": [
        "#결측치 제거"
      ],
      "metadata": {
        "id": "gtMg3ny4Cta_"
      },
      "execution_count": 31,
      "outputs": []
    },
    {
      "cell_type": "code",
      "source": [
        "df1 = data.copy()"
      ],
      "metadata": {
        "id": "mMGRHD_gD3Tm"
      },
      "execution_count": 32,
      "outputs": []
    },
    {
      "cell_type": "code",
      "source": [
        "df1.isnull().sum()"
      ],
      "metadata": {
        "colab": {
          "base_uri": "https://localhost:8080/"
        },
        "id": "OlUR1ET2Dg6D",
        "outputId": "56c284bf-e7fa-4f26-aad3-f99aeef516b4"
      },
      "execution_count": 33,
      "outputs": [
        {
          "output_type": "execute_result",
          "data": {
            "text/plain": [
              "Landslide        0\n",
              "Aspect           0\n",
              "Curvature        0\n",
              "Earthquake       0\n",
              "Elevation        0\n",
              "Flow             0\n",
              "Lithology        0\n",
              "NDVI             0\n",
              "NDWI             0\n",
              "Plan             0\n",
              "Precipitation    0\n",
              "Profile          0\n",
              "Slope            0\n",
              "temperature      0\n",
              "humidity         0\n",
              "rain             0\n",
              "moisture         0\n",
              "pressure         0\n",
              "dtype: int64"
            ]
          },
          "metadata": {},
          "execution_count": 33
        }
      ]
    },
    {
      "cell_type": "code",
      "source": [
        "#소수점 간편화"
      ],
      "metadata": {
        "id": "Zp1uTLfuEgHq"
      },
      "execution_count": 34,
      "outputs": []
    },
    {
      "cell_type": "code",
      "source": [
        "pd.set_option('display.float_format', '{:,.2f}'.format)"
      ],
      "metadata": {
        "id": "QsoepIFpDs5t"
      },
      "execution_count": 96,
      "outputs": []
    },
    {
      "cell_type": "code",
      "source": [
        "df1.shape"
      ],
      "metadata": {
        "colab": {
          "base_uri": "https://localhost:8080/"
        },
        "id": "GnfqxEi4FHpZ",
        "outputId": "9b93c7ee-1c81-487a-a4bf-2e417d042b6f"
      },
      "execution_count": 36,
      "outputs": [
        {
          "output_type": "execute_result",
          "data": {
            "text/plain": [
              "(190890, 18)"
            ]
          },
          "metadata": {},
          "execution_count": 36
        }
      ]
    },
    {
      "cell_type": "code",
      "source": [
        "df1.head()"
      ],
      "metadata": {
        "colab": {
          "base_uri": "https://localhost:8080/",
          "height": 206
        },
        "id": "ShjX5lq_Elld",
        "outputId": "d591ba4d-dcc2-4f7e-a47c-7f5b781b81a6"
      },
      "execution_count": 37,
      "outputs": [
        {
          "output_type": "execute_result",
          "data": {
            "text/plain": [
              "   Landslide  Aspect  Curvature  Earthquake  Elevation  Flow  Lithology  NDVI  \\\n",
              "0          0    2.00       3.33        1.67       4.00  2.67       2.33  3.00   \n",
              "1          0    4.00       2.67        2.33       2.00  2.33       1.67  2.33   \n",
              "2          0    3.00       2.67        3.00       2.00  2.00       2.00  2.67   \n",
              "3          0    3.00       2.67        2.67       2.67  3.00       1.33  3.33   \n",
              "4          0    2.67       3.67        2.33       3.67  1.67       3.67  2.67   \n",
              "\n",
              "   NDWI  Plan  Precipitation  Profile  Slope  temperature  humidity      rain  \\\n",
              "0  2.67  3.00           2.67     2.67   2.33        18.21     84.33 26,668.92   \n",
              "1  2.67  2.67           4.33     3.33   2.00        19.17     73.91 27,103.17   \n",
              "2  3.00  3.00           5.00     3.33   2.00        22.79     78.17 26,689.17   \n",
              "3  2.67  2.67           5.00     3.00   2.67        23.30     81.47 18,678.75   \n",
              "4  3.00  3.00           3.67     2.00   3.33        22.45     80.01 26,713.92   \n",
              "\n",
              "   moisture  pressure  \n",
              "0     31.25  1,017.90  \n",
              "1     75.94  1,013.19  \n",
              "2     51.23  1,016.09  \n",
              "3     72.09  1,017.48  \n",
              "4     53.48  1,013.23  "
            ],
            "text/html": [
              "\n",
              "  <div id=\"df-f9f5a2fc-b50e-44b7-a356-0d6347cf33c2\">\n",
              "    <div class=\"colab-df-container\">\n",
              "      <div>\n",
              "<style scoped>\n",
              "    .dataframe tbody tr th:only-of-type {\n",
              "        vertical-align: middle;\n",
              "    }\n",
              "\n",
              "    .dataframe tbody tr th {\n",
              "        vertical-align: top;\n",
              "    }\n",
              "\n",
              "    .dataframe thead th {\n",
              "        text-align: right;\n",
              "    }\n",
              "</style>\n",
              "<table border=\"1\" class=\"dataframe\">\n",
              "  <thead>\n",
              "    <tr style=\"text-align: right;\">\n",
              "      <th></th>\n",
              "      <th>Landslide</th>\n",
              "      <th>Aspect</th>\n",
              "      <th>Curvature</th>\n",
              "      <th>Earthquake</th>\n",
              "      <th>Elevation</th>\n",
              "      <th>Flow</th>\n",
              "      <th>Lithology</th>\n",
              "      <th>NDVI</th>\n",
              "      <th>NDWI</th>\n",
              "      <th>Plan</th>\n",
              "      <th>Precipitation</th>\n",
              "      <th>Profile</th>\n",
              "      <th>Slope</th>\n",
              "      <th>temperature</th>\n",
              "      <th>humidity</th>\n",
              "      <th>rain</th>\n",
              "      <th>moisture</th>\n",
              "      <th>pressure</th>\n",
              "    </tr>\n",
              "  </thead>\n",
              "  <tbody>\n",
              "    <tr>\n",
              "      <th>0</th>\n",
              "      <td>0</td>\n",
              "      <td>2.00</td>\n",
              "      <td>3.33</td>\n",
              "      <td>1.67</td>\n",
              "      <td>4.00</td>\n",
              "      <td>2.67</td>\n",
              "      <td>2.33</td>\n",
              "      <td>3.00</td>\n",
              "      <td>2.67</td>\n",
              "      <td>3.00</td>\n",
              "      <td>2.67</td>\n",
              "      <td>2.67</td>\n",
              "      <td>2.33</td>\n",
              "      <td>18.21</td>\n",
              "      <td>84.33</td>\n",
              "      <td>26,668.92</td>\n",
              "      <td>31.25</td>\n",
              "      <td>1,017.90</td>\n",
              "    </tr>\n",
              "    <tr>\n",
              "      <th>1</th>\n",
              "      <td>0</td>\n",
              "      <td>4.00</td>\n",
              "      <td>2.67</td>\n",
              "      <td>2.33</td>\n",
              "      <td>2.00</td>\n",
              "      <td>2.33</td>\n",
              "      <td>1.67</td>\n",
              "      <td>2.33</td>\n",
              "      <td>2.67</td>\n",
              "      <td>2.67</td>\n",
              "      <td>4.33</td>\n",
              "      <td>3.33</td>\n",
              "      <td>2.00</td>\n",
              "      <td>19.17</td>\n",
              "      <td>73.91</td>\n",
              "      <td>27,103.17</td>\n",
              "      <td>75.94</td>\n",
              "      <td>1,013.19</td>\n",
              "    </tr>\n",
              "    <tr>\n",
              "      <th>2</th>\n",
              "      <td>0</td>\n",
              "      <td>3.00</td>\n",
              "      <td>2.67</td>\n",
              "      <td>3.00</td>\n",
              "      <td>2.00</td>\n",
              "      <td>2.00</td>\n",
              "      <td>2.00</td>\n",
              "      <td>2.67</td>\n",
              "      <td>3.00</td>\n",
              "      <td>3.00</td>\n",
              "      <td>5.00</td>\n",
              "      <td>3.33</td>\n",
              "      <td>2.00</td>\n",
              "      <td>22.79</td>\n",
              "      <td>78.17</td>\n",
              "      <td>26,689.17</td>\n",
              "      <td>51.23</td>\n",
              "      <td>1,016.09</td>\n",
              "    </tr>\n",
              "    <tr>\n",
              "      <th>3</th>\n",
              "      <td>0</td>\n",
              "      <td>3.00</td>\n",
              "      <td>2.67</td>\n",
              "      <td>2.67</td>\n",
              "      <td>2.67</td>\n",
              "      <td>3.00</td>\n",
              "      <td>1.33</td>\n",
              "      <td>3.33</td>\n",
              "      <td>2.67</td>\n",
              "      <td>2.67</td>\n",
              "      <td>5.00</td>\n",
              "      <td>3.00</td>\n",
              "      <td>2.67</td>\n",
              "      <td>23.30</td>\n",
              "      <td>81.47</td>\n",
              "      <td>18,678.75</td>\n",
              "      <td>72.09</td>\n",
              "      <td>1,017.48</td>\n",
              "    </tr>\n",
              "    <tr>\n",
              "      <th>4</th>\n",
              "      <td>0</td>\n",
              "      <td>2.67</td>\n",
              "      <td>3.67</td>\n",
              "      <td>2.33</td>\n",
              "      <td>3.67</td>\n",
              "      <td>1.67</td>\n",
              "      <td>3.67</td>\n",
              "      <td>2.67</td>\n",
              "      <td>3.00</td>\n",
              "      <td>3.00</td>\n",
              "      <td>3.67</td>\n",
              "      <td>2.00</td>\n",
              "      <td>3.33</td>\n",
              "      <td>22.45</td>\n",
              "      <td>80.01</td>\n",
              "      <td>26,713.92</td>\n",
              "      <td>53.48</td>\n",
              "      <td>1,013.23</td>\n",
              "    </tr>\n",
              "  </tbody>\n",
              "</table>\n",
              "</div>\n",
              "      <button class=\"colab-df-convert\" onclick=\"convertToInteractive('df-f9f5a2fc-b50e-44b7-a356-0d6347cf33c2')\"\n",
              "              title=\"Convert this dataframe to an interactive table.\"\n",
              "              style=\"display:none;\">\n",
              "        \n",
              "  <svg xmlns=\"http://www.w3.org/2000/svg\" height=\"24px\"viewBox=\"0 0 24 24\"\n",
              "       width=\"24px\">\n",
              "    <path d=\"M0 0h24v24H0V0z\" fill=\"none\"/>\n",
              "    <path d=\"M18.56 5.44l.94 2.06.94-2.06 2.06-.94-2.06-.94-.94-2.06-.94 2.06-2.06.94zm-11 1L8.5 8.5l.94-2.06 2.06-.94-2.06-.94L8.5 2.5l-.94 2.06-2.06.94zm10 10l.94 2.06.94-2.06 2.06-.94-2.06-.94-.94-2.06-.94 2.06-2.06.94z\"/><path d=\"M17.41 7.96l-1.37-1.37c-.4-.4-.92-.59-1.43-.59-.52 0-1.04.2-1.43.59L10.3 9.45l-7.72 7.72c-.78.78-.78 2.05 0 2.83L4 21.41c.39.39.9.59 1.41.59.51 0 1.02-.2 1.41-.59l7.78-7.78 2.81-2.81c.8-.78.8-2.07 0-2.86zM5.41 20L4 18.59l7.72-7.72 1.47 1.35L5.41 20z\"/>\n",
              "  </svg>\n",
              "      </button>\n",
              "      \n",
              "  <style>\n",
              "    .colab-df-container {\n",
              "      display:flex;\n",
              "      flex-wrap:wrap;\n",
              "      gap: 12px;\n",
              "    }\n",
              "\n",
              "    .colab-df-convert {\n",
              "      background-color: #E8F0FE;\n",
              "      border: none;\n",
              "      border-radius: 50%;\n",
              "      cursor: pointer;\n",
              "      display: none;\n",
              "      fill: #1967D2;\n",
              "      height: 32px;\n",
              "      padding: 0 0 0 0;\n",
              "      width: 32px;\n",
              "    }\n",
              "\n",
              "    .colab-df-convert:hover {\n",
              "      background-color: #E2EBFA;\n",
              "      box-shadow: 0px 1px 2px rgba(60, 64, 67, 0.3), 0px 1px 3px 1px rgba(60, 64, 67, 0.15);\n",
              "      fill: #174EA6;\n",
              "    }\n",
              "\n",
              "    [theme=dark] .colab-df-convert {\n",
              "      background-color: #3B4455;\n",
              "      fill: #D2E3FC;\n",
              "    }\n",
              "\n",
              "    [theme=dark] .colab-df-convert:hover {\n",
              "      background-color: #434B5C;\n",
              "      box-shadow: 0px 1px 3px 1px rgba(0, 0, 0, 0.15);\n",
              "      filter: drop-shadow(0px 1px 2px rgba(0, 0, 0, 0.3));\n",
              "      fill: #FFFFFF;\n",
              "    }\n",
              "  </style>\n",
              "\n",
              "      <script>\n",
              "        const buttonEl =\n",
              "          document.querySelector('#df-f9f5a2fc-b50e-44b7-a356-0d6347cf33c2 button.colab-df-convert');\n",
              "        buttonEl.style.display =\n",
              "          google.colab.kernel.accessAllowed ? 'block' : 'none';\n",
              "\n",
              "        async function convertToInteractive(key) {\n",
              "          const element = document.querySelector('#df-f9f5a2fc-b50e-44b7-a356-0d6347cf33c2');\n",
              "          const dataTable =\n",
              "            await google.colab.kernel.invokeFunction('convertToInteractive',\n",
              "                                                     [key], {});\n",
              "          if (!dataTable) return;\n",
              "\n",
              "          const docLinkHtml = 'Like what you see? Visit the ' +\n",
              "            '<a target=\"_blank\" href=https://colab.research.google.com/notebooks/data_table.ipynb>data table notebook</a>'\n",
              "            + ' to learn more about interactive tables.';\n",
              "          element.innerHTML = '';\n",
              "          dataTable['output_type'] = 'display_data';\n",
              "          await google.colab.output.renderOutput(dataTable, element);\n",
              "          const docLink = document.createElement('div');\n",
              "          docLink.innerHTML = docLinkHtml;\n",
              "          element.appendChild(docLink);\n",
              "        }\n",
              "      </script>\n",
              "    </div>\n",
              "  </div>\n",
              "  "
            ]
          },
          "metadata": {},
          "execution_count": 37
        }
      ]
    },
    {
      "cell_type": "code",
      "source": [
        "df1.columns"
      ],
      "metadata": {
        "colab": {
          "base_uri": "https://localhost:8080/"
        },
        "id": "TL1WPjFZF6wU",
        "outputId": "36eb6c5f-9914-4da9-c2bd-af8ec608113d"
      },
      "execution_count": 38,
      "outputs": [
        {
          "output_type": "execute_result",
          "data": {
            "text/plain": [
              "Index(['Landslide', 'Aspect', 'Curvature', 'Earthquake', 'Elevation', 'Flow',\n",
              "       'Lithology', 'NDVI', 'NDWI', 'Plan', 'Precipitation', 'Profile',\n",
              "       'Slope', 'temperature', 'humidity', 'rain', 'moisture', 'pressure'],\n",
              "      dtype='object')"
            ]
          },
          "metadata": {},
          "execution_count": 38
        }
      ]
    },
    {
      "cell_type": "code",
      "source": [
        "\"\"\"컬럼 해석\"\"\"\n",
        "# Landslide : 산사태 유무\n",
        "# Aspect : 측면\n",
        "#\tCurvature\tEarthquake : 곡률\n",
        "#\tElevation\t : 높이 (지상과 산의 차이)\n",
        "# Flow : 흐름(범람하다,넘치다)\n",
        "#\tLithology : 암석학(화강암 등등)\n",
        "#\tNDVI (Normalized Difference Vegetation Index) : 식생을 정량화 할때 사용하는 식생 지수 (값이 높을수록 더 건강한 식물)\n",
        "# NDWI (Normalized Difference Water Index) : 수역지역(water body)을 나타내는데 널리 사용되고 있다. (물 분포)\n",
        "# Plan : drop\n",
        "# Precipitation : 강수량\n",
        "#\tProfile : drop\n",
        "#\tSlope\t: 경사\n",
        "# temperature : 온도\n",
        "#\thumidity : 습기\n",
        "#\train : 비\n",
        "#\tmoisture : 수분\n",
        "# pressure : 압력"
      ],
      "metadata": {
        "colab": {
          "base_uri": "https://localhost:8080/",
          "height": 36
        },
        "id": "vutV_Og1FLhX",
        "outputId": "97c42189-775a-4555-c559-1db4091c75c1"
      },
      "execution_count": 95,
      "outputs": [
        {
          "output_type": "execute_result",
          "data": {
            "text/plain": [
              "'컬럼 해석'"
            ],
            "application/vnd.google.colaboratory.intrinsic+json": {
              "type": "string"
            }
          },
          "metadata": {},
          "execution_count": 95
        }
      ]
    },
    {
      "cell_type": "code",
      "source": [
        "#필요없는 컬럼 삭제"
      ],
      "metadata": {
        "id": "t6opOVP1Uj_J"
      },
      "execution_count": 40,
      "outputs": []
    },
    {
      "cell_type": "code",
      "source": [
        "df1.drop(columns = ['Plan', 'Profile','Precipitation'], inplace= True)\n",
        "#강수량과 비의 컬럼은 도메인적으로 상호상관관계가 강해보이지만, 데이터로 봤을때 강수량은 표준화 되어있다. \n",
        "#두 개의 데이터가 혹시나 다중공선성을 일으킬수도 있을수도 있기 때문에 risk를 줄이고자 하나의 데이터만 가져가려고 한다.\n",
        "#비의 양 rain 컬럼을 들고 간다."
      ],
      "metadata": {
        "id": "8qCPo6HONJrC"
      },
      "execution_count": 41,
      "outputs": []
    },
    {
      "cell_type": "code",
      "source": [
        "# 산사태의 유무가 불균형으로 분포되어있다.\n",
        "# 산사태 무 : 0   /  유 : 1\n",
        "df1.Landslide.value_counts()"
      ],
      "metadata": {
        "colab": {
          "base_uri": "https://localhost:8080/"
        },
        "id": "muEGnvBohJtp",
        "outputId": "55ab6e48-0c17-4e0f-e325-79b45025b8f6"
      },
      "execution_count": 98,
      "outputs": [
        {
          "output_type": "execute_result",
          "data": {
            "text/plain": [
              "0    181236\n",
              "1      9654\n",
              "Name: Landslide, dtype: int64"
            ]
          },
          "metadata": {},
          "execution_count": 98
        }
      ]
    },
    {
      "cell_type": "code",
      "source": [
        "#그렇기 때문에 알고 있어야 할점 2가지\n",
        "# 1. train_test_split  stratify = df[''] -> 같은 비중으로 나눠주기\n",
        "# 2. 불균형 레이블 데이터를 해결하기 위한 방법으로는 대부분 데이터를 만들어서 비중을 같게 만든다. 하지만 이건 성능 측면에서 좋다고 해석하기 모호하다.\n",
        "# 그래서  반복 수행을 통해 오류를 최소화 할 수 있도록 가중치의 업데이트 값을 도출하는 그래디언트 부스팅 방법을 선택하였다."
      ],
      "metadata": {
        "id": "VFMLPOtllmZs"
      },
      "execution_count": 97,
      "outputs": []
    },
    {
      "cell_type": "markdown",
      "source": [
        "##Model"
      ],
      "metadata": {
        "id": "ZfL8RxH1zvbw"
      }
    },
    {
      "cell_type": "code",
      "source": [
        "#test data/ train data\n",
        "#target = Landslide\n",
        "y = df1['Landslide']\n",
        "X = df1.drop(columns = 'Landslide')\n",
        "\n",
        "from sklearn.model_selection import train_test_split\n",
        "X_train_val, X_test, y_train_val , y_test = train_test_split(X , y, random_state=2,  stratify = df1['Landslide'])\n",
        "\n",
        "X_train_val.shape , X_test.shape , y_train_val.shape , y_test.shape"
      ],
      "metadata": {
        "colab": {
          "base_uri": "https://localhost:8080/"
        },
        "id": "Vxg6ClsPzyyP",
        "outputId": "55bbc263-9d61-42a9-f6f3-bdac20389ec9"
      },
      "execution_count": 43,
      "outputs": [
        {
          "output_type": "execute_result",
          "data": {
            "text/plain": [
              "((143167, 14), (47723, 14), (143167,), (47723,))"
            ]
          },
          "metadata": {},
          "execution_count": 43
        }
      ]
    },
    {
      "cell_type": "code",
      "source": [
        "#검증 데이터 만들기\n",
        "\n",
        "X_train, X_val, y_train, y_val = train_test_split(X_train_val , y_train_val, random_state=2,  stratify = y_train_val)\n",
        "\n",
        "X_train.shape, X_val.shape, y_train.shape, y_val.shape"
      ],
      "metadata": {
        "colab": {
          "base_uri": "https://localhost:8080/"
        },
        "id": "zrt0U3yI2lZu",
        "outputId": "cf9ba805-fade-4bad-f48f-6f64c35d6c50"
      },
      "execution_count": 44,
      "outputs": [
        {
          "output_type": "execute_result",
          "data": {
            "text/plain": [
              "((107375, 14), (35792, 14), (107375,), (35792,))"
            ]
          },
          "metadata": {},
          "execution_count": 44
        }
      ]
    },
    {
      "cell_type": "code",
      "source": [
        "#부스팅\n",
        "#약한 학습기를 여러개 결합하여 강한 학습기를 만드는 기법을 의미한다.\n",
        "#여러개의 모형을 순차적으로 학습하고 틀린 예측 데이터에 대해서 그다음 모형이 순차적으로 학습해나가는 방식을 말합니다.\n",
        "#정확도가 낮더라도 일단 모형을 생성하고 이전 모형의 오류를 다음 모형에서 보완하는 과정을 반복하여 이들을 결합하는 방식입니다.\n",
        "\n",
        "\n",
        "#그래디언트 부스팅\n",
        "#이전 모형의 예측오류를 보완하는데 있어서..\n",
        "#약점을 손실함수로 나타내고, 손실함수를 최소화 하고자 경사하강법을 사용한다.\n",
        "#경사하강법을 간단하게 짚고 넘어가자면 함수의 기울기를 구해서 기울기가 낮은쪽으로 계속 이동시켜서 극값에 이를때까지 반복 -> 오차(예측값 - 실제값)를 줄여간다. \n",
        "#-> 과적합 방지를 위해 learning-rate를 사용한다.\n",
        "# + 랜덤하게 기울기를 구하고 게쏙해서 조금씩 기울기 0을 찾아간다-> 그곳이 전체적인 오차가 최소화되는 지점!"
      ],
      "metadata": {
        "id": "788gNiMjBxwd"
      },
      "execution_count": 100,
      "outputs": []
    },
    {
      "cell_type": "code",
      "source": [
        "from sklearn.model_selection import GridSearchCV\n",
        "from sklearn.ensemble import GradientBoostingClassifier\n",
        "from sklearn.metrics import accuracy_score"
      ],
      "metadata": {
        "id": "GC91fzmQzszZ"
      },
      "execution_count": 99,
      "outputs": []
    },
    {
      "cell_type": "code",
      "source": [
        "#그래디언트 부스팅 분류 분석\n",
        "model = GradientBoostingClassifier(random_state=0)\n",
        "model.fit(X_train, y_train)"
      ],
      "metadata": {
        "colab": {
          "base_uri": "https://localhost:8080/"
        },
        "id": "xULesnhX6fR_",
        "outputId": "94d12883-e936-4ffc-c388-8c842cc24f58"
      },
      "execution_count": 47,
      "outputs": [
        {
          "output_type": "execute_result",
          "data": {
            "text/plain": [
              "GradientBoostingClassifier(random_state=0)"
            ]
          },
          "metadata": {},
          "execution_count": 47
        }
      ]
    },
    {
      "cell_type": "code",
      "source": [
        "print('훈련 세트 정확도 : ' ,model.score(X_train, y_train))\n",
        "print('검증 세트 정확도 : ' ,model.score(X_val, y_val))"
      ],
      "metadata": {
        "colab": {
          "base_uri": "https://localhost:8080/"
        },
        "id": "EujRkfOB0bzr",
        "outputId": "1618b4f2-7f5b-44ea-dc2f-cd00f0fa400f"
      },
      "execution_count": 48,
      "outputs": [
        {
          "output_type": "stream",
          "name": "stdout",
          "text": [
            "훈련 세트 정확도 :  0.9976810244470314\n",
            "검증 세트 정확도 :  0.9972619579794367\n"
          ]
        }
      ]
    },
    {
      "cell_type": "code",
      "source": [
        "#정확도가 '1'에 가깝기 때문에 과적합이 의심된다.\n",
        "#해결방안으로 최적의 파라미터 조정\n",
        "# - 최대 깊이를 줄이거나\n",
        "# - 사전 가지치기를 강하게 하거나\n",
        "# - 학습률을 낮추는 방법"
      ],
      "metadata": {
        "id": "HAJMkK8w9_-Q"
      },
      "execution_count": 49,
      "outputs": []
    },
    {
      "cell_type": "code",
      "source": [
        "#최적의 파라미터 계산 및 설정\n",
        "param_test = {\n",
        "\n",
        "        \"n_estimators\": range(10, 100, 10),\n",
        "\n",
        "        \"max_depth\": [1, 2, 4],\n",
        "\n",
        "        \"learning_rate\": [0.001, 0.01, 0.1]\n",
        "\n",
        "    }\n",
        "\n",
        "grid_search = GridSearchCV(\n",
        "\n",
        "        estimator=model,\n",
        "\n",
        "        param_grid=param_test,\n",
        "\n",
        "        scoring=\"accuracy\",\n",
        "\n",
        "        n_jobs=-1,\n",
        "\n",
        "        cv=5,\n",
        "\n",
        "    )\n",
        "\n",
        "#최적의 파라미터 추정\n",
        "grid_search.fit(X_train, y_train)\n",
        "\n",
        "\n",
        "print(\"Best CV Score\", grid_search.best_score_)\n",
        "print(\"Best Params\", grid_search.best_params_)"
      ],
      "metadata": {
        "colab": {
          "base_uri": "https://localhost:8080/"
        },
        "id": "xKXUInWS7wu7",
        "outputId": "8e823126-46b5-45e8-8fb1-8e32ce683312"
      },
      "execution_count": 50,
      "outputs": [
        {
          "output_type": "stream",
          "name": "stdout",
          "text": [
            "Best CV Score 0.9971222351571596\n",
            "Best Params {'learning_rate': 0.1, 'max_depth': 4, 'n_estimators': 30}\n"
          ]
        }
      ]
    },
    {
      "cell_type": "code",
      "source": [
        "#모델링\n",
        "final_model = GradientBoostingClassifier(random_state=0, \n",
        "                                         learning_rate = 0.1, max_depth = 4, n_estimators =  30)\n",
        "\n",
        "final_model.fit(X_train, y_train)\n",
        "\n",
        "#최종 모델에 적용\n",
        "print(\"훈련 데이터 Score : \", final_model.score(X_train, y_train))\n",
        "print(\"검증 데이터 Score : \", final_model.score(X_val, y_val))\n",
        "print(\"테스트 데이터 Score : \", final_model.score(X_test, y_test))"
      ],
      "metadata": {
        "colab": {
          "base_uri": "https://localhost:8080/"
        },
        "id": "GgWcZyO17fhx",
        "outputId": "c240980b-b42c-493b-f838-f308f65bd0b2"
      },
      "execution_count": 64,
      "outputs": [
        {
          "output_type": "stream",
          "name": "stdout",
          "text": [
            "훈련 데이터 Score :  0.9977089639115251\n",
            "검증 데이터 Score :  0.9973737147966026\n",
            "테스트 데이터 Score :  0.9975902604614127\n"
          ]
        }
      ]
    },
    {
      "cell_type": "code",
      "source": [
        "# 최적의 learning_rate 값을 찾았지만 그래도 과적합이 의심되어\n",
        "# 학습률을 더 강하게 낮춰 방지한다.\n",
        "\n",
        "final_model_last = GradientBoostingClassifier(random_state=0, \n",
        "                                         learning_rate = 0.01, max_depth = 4, n_estimators =  30)\n",
        "\n",
        "final_model_last.fit(X_train, y_train)\n",
        "\n",
        "#최종 모델에 적용\n",
        "print(\"훈련 데이터 Score : \", final_model_last.score(X_train, y_train))\n",
        "print(\"검증 데이터 Score : \", final_model_last.score(X_val, y_val))\n",
        "print(\"테스트 데이터 Score : \", final_model_last.score(X_test, y_test))"
      ],
      "metadata": {
        "colab": {
          "base_uri": "https://localhost:8080/"
        },
        "id": "y8CJAHJtP5aB",
        "outputId": "bc15249a-8797-44c4-8d62-10c6f0bacf09"
      },
      "execution_count": 65,
      "outputs": [
        {
          "output_type": "stream",
          "name": "stdout",
          "text": [
            "훈련 데이터 Score :  0.9494295692665891\n",
            "검증 데이터 Score :  0.9494300402324541\n",
            "테스트 데이터 Score :  0.9494164239465247\n"
          ]
        }
      ]
    },
    {
      "cell_type": "code",
      "source": [
        "#feature importance - 변수 중요도\n",
        "\n",
        "df_import = pd.DataFrame()\n",
        "df_import['Feature'] = X.columns\n",
        "df_import['importance'] = final_model_last.feature_importances_\n",
        "\n",
        "#내림차순\n",
        "df_import.sort_values('importance', ascending=False, inplace=True)\n",
        "df_import.round(5)"
      ],
      "metadata": {
        "colab": {
          "base_uri": "https://localhost:8080/",
          "height": 488
        },
        "id": "_j6D8QMMHdsO",
        "outputId": "bb932f14-da3a-4527-a866-d87d27404220"
      },
      "execution_count": 73,
      "outputs": [
        {
          "output_type": "execute_result",
          "data": {
            "text/plain": [
              "        Feature  importance\n",
              "11         rain     0.99273\n",
              "12     moisture     0.00408\n",
              "9   temperature     0.00113\n",
              "13     pressure     0.00085\n",
              "10     humidity     0.00078\n",
              "4          Flow     0.00017\n",
              "8         Slope     0.00016\n",
              "2    Earthquake     0.00009\n",
              "5     Lithology     0.00001\n",
              "0        Aspect     0.00000\n",
              "1     Curvature     0.00000\n",
              "3     Elevation     0.00000\n",
              "6          NDVI     0.00000\n",
              "7          NDWI     0.00000"
            ],
            "text/html": [
              "\n",
              "  <div id=\"df-bd5d8848-92aa-4a18-863b-badc567a9f80\">\n",
              "    <div class=\"colab-df-container\">\n",
              "      <div>\n",
              "<style scoped>\n",
              "    .dataframe tbody tr th:only-of-type {\n",
              "        vertical-align: middle;\n",
              "    }\n",
              "\n",
              "    .dataframe tbody tr th {\n",
              "        vertical-align: top;\n",
              "    }\n",
              "\n",
              "    .dataframe thead th {\n",
              "        text-align: right;\n",
              "    }\n",
              "</style>\n",
              "<table border=\"1\" class=\"dataframe\">\n",
              "  <thead>\n",
              "    <tr style=\"text-align: right;\">\n",
              "      <th></th>\n",
              "      <th>Feature</th>\n",
              "      <th>importance</th>\n",
              "    </tr>\n",
              "  </thead>\n",
              "  <tbody>\n",
              "    <tr>\n",
              "      <th>11</th>\n",
              "      <td>rain</td>\n",
              "      <td>0.99273</td>\n",
              "    </tr>\n",
              "    <tr>\n",
              "      <th>12</th>\n",
              "      <td>moisture</td>\n",
              "      <td>0.00408</td>\n",
              "    </tr>\n",
              "    <tr>\n",
              "      <th>9</th>\n",
              "      <td>temperature</td>\n",
              "      <td>0.00113</td>\n",
              "    </tr>\n",
              "    <tr>\n",
              "      <th>13</th>\n",
              "      <td>pressure</td>\n",
              "      <td>0.00085</td>\n",
              "    </tr>\n",
              "    <tr>\n",
              "      <th>10</th>\n",
              "      <td>humidity</td>\n",
              "      <td>0.00078</td>\n",
              "    </tr>\n",
              "    <tr>\n",
              "      <th>4</th>\n",
              "      <td>Flow</td>\n",
              "      <td>0.00017</td>\n",
              "    </tr>\n",
              "    <tr>\n",
              "      <th>8</th>\n",
              "      <td>Slope</td>\n",
              "      <td>0.00016</td>\n",
              "    </tr>\n",
              "    <tr>\n",
              "      <th>2</th>\n",
              "      <td>Earthquake</td>\n",
              "      <td>0.00009</td>\n",
              "    </tr>\n",
              "    <tr>\n",
              "      <th>5</th>\n",
              "      <td>Lithology</td>\n",
              "      <td>0.00001</td>\n",
              "    </tr>\n",
              "    <tr>\n",
              "      <th>0</th>\n",
              "      <td>Aspect</td>\n",
              "      <td>0.00000</td>\n",
              "    </tr>\n",
              "    <tr>\n",
              "      <th>1</th>\n",
              "      <td>Curvature</td>\n",
              "      <td>0.00000</td>\n",
              "    </tr>\n",
              "    <tr>\n",
              "      <th>3</th>\n",
              "      <td>Elevation</td>\n",
              "      <td>0.00000</td>\n",
              "    </tr>\n",
              "    <tr>\n",
              "      <th>6</th>\n",
              "      <td>NDVI</td>\n",
              "      <td>0.00000</td>\n",
              "    </tr>\n",
              "    <tr>\n",
              "      <th>7</th>\n",
              "      <td>NDWI</td>\n",
              "      <td>0.00000</td>\n",
              "    </tr>\n",
              "  </tbody>\n",
              "</table>\n",
              "</div>\n",
              "      <button class=\"colab-df-convert\" onclick=\"convertToInteractive('df-bd5d8848-92aa-4a18-863b-badc567a9f80')\"\n",
              "              title=\"Convert this dataframe to an interactive table.\"\n",
              "              style=\"display:none;\">\n",
              "        \n",
              "  <svg xmlns=\"http://www.w3.org/2000/svg\" height=\"24px\"viewBox=\"0 0 24 24\"\n",
              "       width=\"24px\">\n",
              "    <path d=\"M0 0h24v24H0V0z\" fill=\"none\"/>\n",
              "    <path d=\"M18.56 5.44l.94 2.06.94-2.06 2.06-.94-2.06-.94-.94-2.06-.94 2.06-2.06.94zm-11 1L8.5 8.5l.94-2.06 2.06-.94-2.06-.94L8.5 2.5l-.94 2.06-2.06.94zm10 10l.94 2.06.94-2.06 2.06-.94-2.06-.94-.94-2.06-.94 2.06-2.06.94z\"/><path d=\"M17.41 7.96l-1.37-1.37c-.4-.4-.92-.59-1.43-.59-.52 0-1.04.2-1.43.59L10.3 9.45l-7.72 7.72c-.78.78-.78 2.05 0 2.83L4 21.41c.39.39.9.59 1.41.59.51 0 1.02-.2 1.41-.59l7.78-7.78 2.81-2.81c.8-.78.8-2.07 0-2.86zM5.41 20L4 18.59l7.72-7.72 1.47 1.35L5.41 20z\"/>\n",
              "  </svg>\n",
              "      </button>\n",
              "      \n",
              "  <style>\n",
              "    .colab-df-container {\n",
              "      display:flex;\n",
              "      flex-wrap:wrap;\n",
              "      gap: 12px;\n",
              "    }\n",
              "\n",
              "    .colab-df-convert {\n",
              "      background-color: #E8F0FE;\n",
              "      border: none;\n",
              "      border-radius: 50%;\n",
              "      cursor: pointer;\n",
              "      display: none;\n",
              "      fill: #1967D2;\n",
              "      height: 32px;\n",
              "      padding: 0 0 0 0;\n",
              "      width: 32px;\n",
              "    }\n",
              "\n",
              "    .colab-df-convert:hover {\n",
              "      background-color: #E2EBFA;\n",
              "      box-shadow: 0px 1px 2px rgba(60, 64, 67, 0.3), 0px 1px 3px 1px rgba(60, 64, 67, 0.15);\n",
              "      fill: #174EA6;\n",
              "    }\n",
              "\n",
              "    [theme=dark] .colab-df-convert {\n",
              "      background-color: #3B4455;\n",
              "      fill: #D2E3FC;\n",
              "    }\n",
              "\n",
              "    [theme=dark] .colab-df-convert:hover {\n",
              "      background-color: #434B5C;\n",
              "      box-shadow: 0px 1px 3px 1px rgba(0, 0, 0, 0.15);\n",
              "      filter: drop-shadow(0px 1px 2px rgba(0, 0, 0, 0.3));\n",
              "      fill: #FFFFFF;\n",
              "    }\n",
              "  </style>\n",
              "\n",
              "      <script>\n",
              "        const buttonEl =\n",
              "          document.querySelector('#df-bd5d8848-92aa-4a18-863b-badc567a9f80 button.colab-df-convert');\n",
              "        buttonEl.style.display =\n",
              "          google.colab.kernel.accessAllowed ? 'block' : 'none';\n",
              "\n",
              "        async function convertToInteractive(key) {\n",
              "          const element = document.querySelector('#df-bd5d8848-92aa-4a18-863b-badc567a9f80');\n",
              "          const dataTable =\n",
              "            await google.colab.kernel.invokeFunction('convertToInteractive',\n",
              "                                                     [key], {});\n",
              "          if (!dataTable) return;\n",
              "\n",
              "          const docLinkHtml = 'Like what you see? Visit the ' +\n",
              "            '<a target=\"_blank\" href=https://colab.research.google.com/notebooks/data_table.ipynb>data table notebook</a>'\n",
              "            + ' to learn more about interactive tables.';\n",
              "          element.innerHTML = '';\n",
              "          dataTable['output_type'] = 'display_data';\n",
              "          await google.colab.output.renderOutput(dataTable, element);\n",
              "          const docLink = document.createElement('div');\n",
              "          docLink.innerHTML = docLinkHtml;\n",
              "          element.appendChild(docLink);\n",
              "        }\n",
              "      </script>\n",
              "    </div>\n",
              "  </div>\n",
              "  "
            ]
          },
          "metadata": {},
          "execution_count": 73
        }
      ]
    },
    {
      "cell_type": "code",
      "source": [
        "#rain "
      ],
      "metadata": {
        "id": "KMN7LZccIgwT"
      },
      "execution_count": null,
      "outputs": []
    },
    {
      "cell_type": "code",
      "source": [
        "df_import.sort_values('importance', ascending=True, inplace=True)\n",
        "coordinates=range(len(df_import))\n",
        "plt.barh( y = coordinates , width = df_import['importance'] )\n",
        "plt.yticks( coordinates , df_import['Feature'])\n",
        "plt.xlabel('feature importance')\n",
        "plt.ylabel('feature')"
      ],
      "metadata": {
        "colab": {
          "base_uri": "https://localhost:8080/",
          "height": 298
        },
        "id": "MRfTjPclIjA8",
        "outputId": "b5878ef4-0b45-467c-ebf3-9c9cc97e4571"
      },
      "execution_count": 80,
      "outputs": [
        {
          "output_type": "execute_result",
          "data": {
            "text/plain": [
              "Text(0, 0.5, 'feature')"
            ]
          },
          "metadata": {},
          "execution_count": 80
        },
        {
          "output_type": "display_data",
          "data": {
            "text/plain": [
              "<Figure size 432x288 with 1 Axes>"
            ],
            "image/png": "[encoded data removed]"
          },
          "metadata": {
            "needs_background": "light"
          }
        }
      ]
    },
    {
      "cell_type": "code",
      "source": [
        "#rain row 빼고\n",
        "df_import1 = df_import.copy()\n",
        "df_import1 = df_import1.drop(11,axis=0)\n",
        "df_import1.sort_values('importance', ascending=True, inplace=True)\n",
        "coordinates1=range(len(df_import1))\n",
        "plt.barh( y = coordinates1 , width = df_import1['importance'] )\n",
        "plt.yticks( coordinates1 , df_import1['Feature'])\n",
        "plt.xlabel('feature importance')\n",
        "plt.ylabel('feature')"
      ],
      "metadata": {
        "colab": {
          "base_uri": "https://localhost:8080/",
          "height": 298
        },
        "id": "-af5vEbhSF2p",
        "outputId": "7499e02f-387f-4f7f-fcb8-70f96cf80156"
      },
      "execution_count": 86,
      "outputs": [
        {
          "output_type": "execute_result",
          "data": {
            "text/plain": [
              "Text(0, 0.5, 'feature')"
            ]
          },
          "metadata": {},
          "execution_count": 86
        },
        {
          "output_type": "display_data",
          "data": {
            "text/plain": [
              "<Figure size 432x288 with 1 Axes>"
            ],
            "image/png": "[encoded data removed]"
          },
          "metadata": {
            "needs_background": "light"
          }
        }
      ]
    },
    {
      "cell_type": "markdown",
      "source": [
        "##SHAP"
      ],
      "metadata": {
        "id": "x_5YcqwQyTmJ"
      }
    },
    {
      "cell_type": "code",
      "source": [
        "! pip install pdpbox\n",
        "from pdpbox.pdp import pdp_isolate, pdp_plot"
      ],
      "metadata": {
        "id": "oHkRJp5e_msL"
      },
      "execution_count": null,
      "outputs": []
    },
    {
      "cell_type": "code",
      "source": [
        "# dpi수치를 조정해 이미지 화질을 조정\n",
        "import matplotlib.pyplot as plt\n",
        "plt.rcParams['figure.dpi'] = 144\n",
        "\n",
        "feature = 'annual_inc'\n",
        "isolated = pdp_isolate(\n",
        "    model=linear, \n",
        "    dataset=X_val, \n",
        "    model_features=X_val.columns, \n",
        "    feature=feature,\n",
        "    grid_type='percentile', # default='percentile', or 'equal'\n",
        "    num_grid_points=10 # default=10\n",
        ")\n",
        "pdp_plot(isolated, feature_name=feature);"
      ],
      "metadata": {
        "id": "pEjjWVi0u5nq"
      },
      "execution_count": null,
      "outputs": []
    }
  ]
}